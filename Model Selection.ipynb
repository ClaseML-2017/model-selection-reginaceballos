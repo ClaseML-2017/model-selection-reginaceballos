{
 "cells": [
  {
   "cell_type": "markdown",
   "metadata": {},
   "source": [
    "# Model Selection\n",
    "Regina Ceballos\n",
    "\n",
    "147663"
   ]
  },
  {
   "cell_type": "code",
   "execution_count": 1,
   "metadata": {},
   "outputs": [],
   "source": [
    "import pandas as pd\n",
    "import numpy as np\n",
    "import random as rnd\n",
    "import matplotlib.pyplot as plt\n",
    "from sklearn.model_selection import train_test_split\n",
    "from sklearn import linear_model\n",
    "from sklearn import preprocessing"
   ]
  },
  {
   "cell_type": "markdown",
   "metadata": {},
   "source": [
    "## Lectura y estandarización de datos"
   ]
  },
  {
   "cell_type": "code",
   "execution_count": 2,
   "metadata": {},
   "outputs": [],
   "source": [
    "df = pd.read_csv(\"https://raw.githubusercontent.com/ClaseML-2017/MaterialyTareas/master/datos/regLinPoli2.csv\")"
   ]
  },
  {
   "cell_type": "code",
   "execution_count": 3,
   "metadata": {},
   "outputs": [
    {
     "name": "stderr",
     "output_type": "stream",
     "text": [
      "/Library/Frameworks/Python.framework/Versions/2.7/lib/python2.7/site-packages/sklearn/model_selection/_split.py:2010: FutureWarning: From version 0.21, test_size will always complement train_size unless both are specified.\n",
      "  FutureWarning)\n"
     ]
    }
   ],
   "source": [
    "X_train, X_test, Y_train, Y_test = train_test_split(df.drop('y', axis=1), df[['y']], train_size=0.75)\n",
    "X_train, X_test, Y_train, Y_test = np.array(X_train), np.array(X_test), np.array(Y_train), np.array(Y_test)\n",
    "scalerX = preprocessing.StandardScaler().fit(X_train)\n",
    "X_train = scalerX.transform(X_train)\n",
    "X_test = scalerX.transform(X_test)\n",
    "scalerY = preprocessing.StandardScaler().fit(Y_train)\n",
    "Y_train = scalerY.transform(Y_train)\n",
    "Y_test = scalerY.transform(Y_test)"
   ]
  },
  {
   "cell_type": "markdown",
   "metadata": {},
   "source": [
    "## Regresión Iterativa Regularizada"
   ]
  },
  {
   "cell_type": "code",
   "execution_count": 4,
   "metadata": {},
   "outputs": [],
   "source": [
    "def salida(w,X):\n",
    "    return X.dot(w[1:]) +w[0]"
   ]
  },
  {
   "cell_type": "code",
   "execution_count": 5,
   "metadata": {},
   "outputs": [],
   "source": [
    "def entrena(X, y, w, la, eta = 0.01):\n",
    "    for i in range(len(X)):\n",
    "        error = y[i] - salida(w, X[i])\n",
    "        w[0] = w[0] + eta * (error)\n",
    "        w[1:] = w[1:] + eta * (error*X[i]) - la * w[1:]\n",
    "    return w"
   ]
  },
  {
   "cell_type": "markdown",
   "metadata": {},
   "source": [
    "### Función de Error"
   ]
  },
  {
   "cell_type": "code",
   "execution_count": 6,
   "metadata": {},
   "outputs": [],
   "source": [
    "def calcError(X, Y, w):\n",
    "    return np.mean((X.dot(w[1:])+ w[0] - Y)**2)"
   ]
  },
  {
   "cell_type": "markdown",
   "metadata": {},
   "source": [
    "## Cross-validation"
   ]
  },
  {
   "cell_type": "code",
   "execution_count": 7,
   "metadata": {},
   "outputs": [],
   "source": [
    "def subsets(X, k):\n",
    "    I = np.random.choice(len(X), len(X), False)\n",
    "    return [I[i] % k for i in range(len(X))]"
   ]
  },
  {
   "cell_type": "code",
   "execution_count": 8,
   "metadata": {},
   "outputs": [],
   "source": [
    "def crossval(X_train, Y_train, w, k, la):\n",
    "    S = np.array(subsets(X_train, k))\n",
    "    err = []\n",
    "    for j in range(k):\n",
    "        Xtr, Ytr, Xtst, Ytst = X_train[S != j], Y_train[S != j], X_train[S == j], Y_train[S == j]\n",
    "        w = entrena(Xtr, Ytr, w, la)\n",
    "        err = np.append(err, calcError(Xtst, Ytst.flatten(), w))\n",
    "    errprom = np.mean(err)\n",
    "    return w, errprom"
   ]
  },
  {
   "cell_type": "markdown",
   "metadata": {},
   "source": [
    "## Prueba con datos"
   ]
  },
  {
   "cell_type": "code",
   "execution_count": 9,
   "metadata": {},
   "outputs": [],
   "source": [
    "la = np.linspace(0.0, 1.0, 100)\n",
    "errprom = []\n",
    "for i in range(len(la)):\n",
    "    w = np.asarray([rnd.random() for j in range(len(X_train[0]) + 1)])\n",
    "    w, err = crossval(X_train, Y_train, w, 10, la[i])\n",
    "    errprom = np.append(errprom, err)"
   ]
  },
  {
   "cell_type": "markdown",
   "metadata": {},
   "source": [
    "### Búsqueda del error mínimo y lambda óptima"
   ]
  },
  {
   "cell_type": "code",
   "execution_count": 10,
   "metadata": {},
   "outputs": [
    {
     "name": "stdout",
     "output_type": "stream",
     "text": [
      "0.0 0.537076509188\n"
     ]
    }
   ],
   "source": [
    "errmin = np.amin(errprom)\n",
    "lamin = np.argmin(errprom)\n",
    "print la[lamin], errmin"
   ]
  },
  {
   "cell_type": "code",
   "execution_count": 11,
   "metadata": {},
   "outputs": [
    {
     "data": {
      "image/png": "[encoded data removed]",
      "text/plain": [
       "<matplotlib.figure.Figure at 0x10b093410>"
      ]
     },
     "metadata": {},
     "output_type": "display_data"
    }
   ],
   "source": [
    "plt.plot(la, errprom)\n",
    "plt.scatter(la[lamin], errmin, c='r')\n",
    "plt.show()"
   ]
  },
  {
   "cell_type": "markdown",
   "metadata": {},
   "source": [
    "Tras correr la función de cross-validation con diferentes valores de lambda, podemos ver que el error mínimo es 0.6057 y se alcanza con lambda = 0.0; es decir, es mejor no utilizar regularización."
   ]
  },
  {
   "cell_type": "markdown",
   "metadata": {
    "collapsed": true
   },
   "source": [
    "## Entrenamiento con lambda óptima"
   ]
  },
  {
   "cell_type": "code",
   "execution_count": 12,
   "metadata": {},
   "outputs": [],
   "source": [
    "w = np.asarray([rnd.random() for i in range(len(X_train[0]) + 1)])\n",
    "for i in range(len(X_train)):\n",
    "    w = entrena(X_train, Y_train, w, la[lamin])"
   ]
  },
  {
   "cell_type": "code",
   "execution_count": 13,
   "metadata": {},
   "outputs": [
    {
     "name": "stdout",
     "output_type": "stream",
     "text": [
      "0.491507177284\n",
      "0.489306635399\n"
     ]
    }
   ],
   "source": [
    "print calcError(X_train, Y_train.flatten(), w)\n",
    "print calcError(X_test, Y_test.flatten(), w)"
   ]
  }
 ],
 "metadata": {
  "anaconda-cloud": {},
  "kernelspec": {
   "display_name": "Python 2",
   "language": "python",
   "name": "python2"
  },
  "language_info": {
   "codemirror_mode": {
    "name": "ipython",
    "version": 2
   },
   "file_extension": ".py",
   "mimetype": "text/x-python",
   "name": "python",
   "nbconvert_exporter": "python",
   "pygments_lexer": "ipython2",
   "version": "2.7.14"
  }
 },
 "nbformat": 4,
 "nbformat_minor": 1
}
